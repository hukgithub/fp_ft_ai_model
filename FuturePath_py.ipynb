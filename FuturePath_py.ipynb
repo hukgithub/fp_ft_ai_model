{
  "nbformat": 4,
  "nbformat_minor": 0,
  "metadata": {
    "colab": {
      "provenance": [],
      "gpuType": "T4",
      "authorship_tag": "ABX9TyOSJW2GDzDFAL8vwdnJVZYm",
      "include_colab_link": true
    },
    "kernelspec": {
      "name": "python3",
      "display_name": "Python 3"
    },
    "language_info": {
      "name": "python"
    },
    "accelerator": "GPU",
    "widgets": {
      "application/vnd.jupyter.widget-state+json": {
        "840bff446b1848e4beab0eae81632364": {
          "model_module": "@jupyter-widgets/controls",
          "model_name": "HBoxModel",
          "model_module_version": "1.5.0",
          "state": {
            "_dom_classes": [],
            "_model_module": "@jupyter-widgets/controls",
            "_model_module_version": "1.5.0",
            "_model_name": "HBoxModel",
            "_view_count": null,
            "_view_module": "@jupyter-widgets/controls",
            "_view_module_version": "1.5.0",
            "_view_name": "HBoxView",
            "box_style": "",
            "children": [
              "IPY_MODEL_e11f3c0e12b843358515f394f21d118a",
              "IPY_MODEL_def09f5b081943d0bd41ab425c3e93ec",
              "IPY_MODEL_ae96b7a7b81b4cc1b41dd295000b3a09"
            ],
            "layout": "IPY_MODEL_7581c2ff99d048a0b43b6f3e2e1c3f89"
          }
        },
        "e11f3c0e12b843358515f394f21d118a": {
          "model_module": "@jupyter-widgets/controls",
          "model_name": "HTMLModel",
          "model_module_version": "1.5.0",
          "state": {
            "_dom_classes": [],
            "_model_module": "@jupyter-widgets/controls",
            "_model_module_version": "1.5.0",
            "_model_name": "HTMLModel",
            "_view_count": null,
            "_view_module": "@jupyter-widgets/controls",
            "_view_module_version": "1.5.0",
            "_view_name": "HTMLView",
            "description": "",
            "description_tooltip": null,
            "layout": "IPY_MODEL_5217bf9b79b44323a69ce47d199ac172",
            "placeholder": "​",
            "style": "IPY_MODEL_134640615c2446dea2c7a02f2f49da26",
            "value": "Map: 100%"
          }
        },
        "def09f5b081943d0bd41ab425c3e93ec": {
          "model_module": "@jupyter-widgets/controls",
          "model_name": "FloatProgressModel",
          "model_module_version": "1.5.0",
          "state": {
            "_dom_classes": [],
            "_model_module": "@jupyter-widgets/controls",
            "_model_module_version": "1.5.0",
            "_model_name": "FloatProgressModel",
            "_view_count": null,
            "_view_module": "@jupyter-widgets/controls",
            "_view_module_version": "1.5.0",
            "_view_name": "ProgressView",
            "bar_style": "success",
            "description": "",
            "description_tooltip": null,
            "layout": "IPY_MODEL_2e186eaf6b064085a0c3cb64c64ddaea",
            "max": 700,
            "min": 0,
            "orientation": "horizontal",
            "style": "IPY_MODEL_43dacfedf74444ec9c0068fa2f8ec804",
            "value": 700
          }
        },
        "ae96b7a7b81b4cc1b41dd295000b3a09": {
          "model_module": "@jupyter-widgets/controls",
          "model_name": "HTMLModel",
          "model_module_version": "1.5.0",
          "state": {
            "_dom_classes": [],
            "_model_module": "@jupyter-widgets/controls",
            "_model_module_version": "1.5.0",
            "_model_name": "HTMLModel",
            "_view_count": null,
            "_view_module": "@jupyter-widgets/controls",
            "_view_module_version": "1.5.0",
            "_view_name": "HTMLView",
            "description": "",
            "description_tooltip": null,
            "layout": "IPY_MODEL_1a915c5e352c471c9b20b6ec74a3fec5",
            "placeholder": "​",
            "style": "IPY_MODEL_e93b4b2d344346c389d025d2bb7fd070",
            "value": " 700/700 [00:01&lt;00:00, 415.26 examples/s]"
          }
        },
        "7581c2ff99d048a0b43b6f3e2e1c3f89": {
          "model_module": "@jupyter-widgets/base",
          "model_name": "LayoutModel",
          "model_module_version": "1.2.0",
          "state": {
            "_model_module": "@jupyter-widgets/base",
            "_model_module_version": "1.2.0",
            "_model_name": "LayoutModel",
            "_view_count": null,
            "_view_module": "@jupyter-widgets/base",
            "_view_module_version": "1.2.0",
            "_view_name": "LayoutView",
            "align_content": null,
            "align_items": null,
            "align_self": null,
            "border": null,
            "bottom": null,
            "display": null,
            "flex": null,
            "flex_flow": null,
            "grid_area": null,
            "grid_auto_columns": null,
            "grid_auto_flow": null,
            "grid_auto_rows": null,
            "grid_column": null,
            "grid_gap": null,
            "grid_row": null,
            "grid_template_areas": null,
            "grid_template_columns": null,
            "grid_template_rows": null,
            "height": null,
            "justify_content": null,
            "justify_items": null,
            "left": null,
            "margin": null,
            "max_height": null,
            "max_width": null,
            "min_height": null,
            "min_width": null,
            "object_fit": null,
            "object_position": null,
            "order": null,
            "overflow": null,
            "overflow_x": null,
            "overflow_y": null,
            "padding": null,
            "right": null,
            "top": null,
            "visibility": null,
            "width": null
          }
        },
        "5217bf9b79b44323a69ce47d199ac172": {
          "model_module": "@jupyter-widgets/base",
          "model_name": "LayoutModel",
          "model_module_version": "1.2.0",
          "state": {
            "_model_module": "@jupyter-widgets/base",
            "_model_module_version": "1.2.0",
            "_model_name": "LayoutModel",
            "_view_count": null,
            "_view_module": "@jupyter-widgets/base",
            "_view_module_version": "1.2.0",
            "_view_name": "LayoutView",
            "align_content": null,
            "align_items": null,
            "align_self": null,
            "border": null,
            "bottom": null,
            "display": null,
            "flex": null,
            "flex_flow": null,
            "grid_area": null,
            "grid_auto_columns": null,
            "grid_auto_flow": null,
            "grid_auto_rows": null,
            "grid_column": null,
            "grid_gap": null,
            "grid_row": null,
            "grid_template_areas": null,
            "grid_template_columns": null,
            "grid_template_rows": null,
            "height": null,
            "justify_content": null,
            "justify_items": null,
            "left": null,
            "margin": null,
            "max_height": null,
            "max_width": null,
            "min_height": null,
            "min_width": null,
            "object_fit": null,
            "object_position": null,
            "order": null,
            "overflow": null,
            "overflow_x": null,
            "overflow_y": null,
            "padding": null,
            "right": null,
            "top": null,
            "visibility": null,
            "width": null
          }
        },
        "134640615c2446dea2c7a02f2f49da26": {
          "model_module": "@jupyter-widgets/controls",
          "model_name": "DescriptionStyleModel",
          "model_module_version": "1.5.0",
          "state": {
            "_model_module": "@jupyter-widgets/controls",
            "_model_module_version": "1.5.0",
            "_model_name": "DescriptionStyleModel",
            "_view_count": null,
            "_view_module": "@jupyter-widgets/base",
            "_view_module_version": "1.2.0",
            "_view_name": "StyleView",
            "description_width": ""
          }
        },
        "2e186eaf6b064085a0c3cb64c64ddaea": {
          "model_module": "@jupyter-widgets/base",
          "model_name": "LayoutModel",
          "model_module_version": "1.2.0",
          "state": {
            "_model_module": "@jupyter-widgets/base",
            "_model_module_version": "1.2.0",
            "_model_name": "LayoutModel",
            "_view_count": null,
            "_view_module": "@jupyter-widgets/base",
            "_view_module_version": "1.2.0",
            "_view_name": "LayoutView",
            "align_content": null,
            "align_items": null,
            "align_self": null,
            "border": null,
            "bottom": null,
            "display": null,
            "flex": null,
            "flex_flow": null,
            "grid_area": null,
            "grid_auto_columns": null,
            "grid_auto_flow": null,
            "grid_auto_rows": null,
            "grid_column": null,
            "grid_gap": null,
            "grid_row": null,
            "grid_template_areas": null,
            "grid_template_columns": null,
            "grid_template_rows": null,
            "height": null,
            "justify_content": null,
            "justify_items": null,
            "left": null,
            "margin": null,
            "max_height": null,
            "max_width": null,
            "min_height": null,
            "min_width": null,
            "object_fit": null,
            "object_position": null,
            "order": null,
            "overflow": null,
            "overflow_x": null,
            "overflow_y": null,
            "padding": null,
            "right": null,
            "top": null,
            "visibility": null,
            "width": null
          }
        },
        "43dacfedf74444ec9c0068fa2f8ec804": {
          "model_module": "@jupyter-widgets/controls",
          "model_name": "ProgressStyleModel",
          "model_module_version": "1.5.0",
          "state": {
            "_model_module": "@jupyter-widgets/controls",
            "_model_module_version": "1.5.0",
            "_model_name": "ProgressStyleModel",
            "_view_count": null,
            "_view_module": "@jupyter-widgets/base",
            "_view_module_version": "1.2.0",
            "_view_name": "StyleView",
            "bar_color": null,
            "description_width": ""
          }
        },
        "1a915c5e352c471c9b20b6ec74a3fec5": {
          "model_module": "@jupyter-widgets/base",
          "model_name": "LayoutModel",
          "model_module_version": "1.2.0",
          "state": {
            "_model_module": "@jupyter-widgets/base",
            "_model_module_version": "1.2.0",
            "_model_name": "LayoutModel",
            "_view_count": null,
            "_view_module": "@jupyter-widgets/base",
            "_view_module_version": "1.2.0",
            "_view_name": "LayoutView",
            "align_content": null,
            "align_items": null,
            "align_self": null,
            "border": null,
            "bottom": null,
            "display": null,
            "flex": null,
            "flex_flow": null,
            "grid_area": null,
            "grid_auto_columns": null,
            "grid_auto_flow": null,
            "grid_auto_rows": null,
            "grid_column": null,
            "grid_gap": null,
            "grid_row": null,
            "grid_template_areas": null,
            "grid_template_columns": null,
            "grid_template_rows": null,
            "height": null,
            "justify_content": null,
            "justify_items": null,
            "left": null,
            "margin": null,
            "max_height": null,
            "max_width": null,
            "min_height": null,
            "min_width": null,
            "object_fit": null,
            "object_position": null,
            "order": null,
            "overflow": null,
            "overflow_x": null,
            "overflow_y": null,
            "padding": null,
            "right": null,
            "top": null,
            "visibility": null,
            "width": null
          }
        },
        "e93b4b2d344346c389d025d2bb7fd070": {
          "model_module": "@jupyter-widgets/controls",
          "model_name": "DescriptionStyleModel",
          "model_module_version": "1.5.0",
          "state": {
            "_model_module": "@jupyter-widgets/controls",
            "_model_module_version": "1.5.0",
            "_model_name": "DescriptionStyleModel",
            "_view_count": null,
            "_view_module": "@jupyter-widgets/base",
            "_view_module_version": "1.2.0",
            "_view_name": "StyleView",
            "description_width": ""
          }
        },
        "ff68c51adb0242d8878609734a363403": {
          "model_module": "@jupyter-widgets/controls",
          "model_name": "HBoxModel",
          "model_module_version": "1.5.0",
          "state": {
            "_dom_classes": [],
            "_model_module": "@jupyter-widgets/controls",
            "_model_module_version": "1.5.0",
            "_model_name": "HBoxModel",
            "_view_count": null,
            "_view_module": "@jupyter-widgets/controls",
            "_view_module_version": "1.5.0",
            "_view_name": "HBoxView",
            "box_style": "",
            "children": [
              "IPY_MODEL_9d5cac14668b4879a4879f8d794b0fc6",
              "IPY_MODEL_0028affb21c34ae8ae7b272962e5b8a3",
              "IPY_MODEL_b89a5dc98bde46e1b00aed3fe0423cc5"
            ],
            "layout": "IPY_MODEL_7b70192ce9894a3a96178c6aeeecaa04"
          }
        },
        "9d5cac14668b4879a4879f8d794b0fc6": {
          "model_module": "@jupyter-widgets/controls",
          "model_name": "HTMLModel",
          "model_module_version": "1.5.0",
          "state": {
            "_dom_classes": [],
            "_model_module": "@jupyter-widgets/controls",
            "_model_module_version": "1.5.0",
            "_model_name": "HTMLModel",
            "_view_count": null,
            "_view_module": "@jupyter-widgets/controls",
            "_view_module_version": "1.5.0",
            "_view_name": "HTMLView",
            "description": "",
            "description_tooltip": null,
            "layout": "IPY_MODEL_285e2e0b7dc142c8b651fc38856b8fe4",
            "placeholder": "​",
            "style": "IPY_MODEL_b02631bb8b174677b09b329cef458a69",
            "value": "Map: 100%"
          }
        },
        "0028affb21c34ae8ae7b272962e5b8a3": {
          "model_module": "@jupyter-widgets/controls",
          "model_name": "FloatProgressModel",
          "model_module_version": "1.5.0",
          "state": {
            "_dom_classes": [],
            "_model_module": "@jupyter-widgets/controls",
            "_model_module_version": "1.5.0",
            "_model_name": "FloatProgressModel",
            "_view_count": null,
            "_view_module": "@jupyter-widgets/controls",
            "_view_module_version": "1.5.0",
            "_view_name": "ProgressView",
            "bar_style": "success",
            "description": "",
            "description_tooltip": null,
            "layout": "IPY_MODEL_e01b611c0e434e93b53d2a1e46d2dea5",
            "max": 150,
            "min": 0,
            "orientation": "horizontal",
            "style": "IPY_MODEL_629352d0a63947ec98d179b2ac66693c",
            "value": 150
          }
        },
        "b89a5dc98bde46e1b00aed3fe0423cc5": {
          "model_module": "@jupyter-widgets/controls",
          "model_name": "HTMLModel",
          "model_module_version": "1.5.0",
          "state": {
            "_dom_classes": [],
            "_model_module": "@jupyter-widgets/controls",
            "_model_module_version": "1.5.0",
            "_model_name": "HTMLModel",
            "_view_count": null,
            "_view_module": "@jupyter-widgets/controls",
            "_view_module_version": "1.5.0",
            "_view_name": "HTMLView",
            "description": "",
            "description_tooltip": null,
            "layout": "IPY_MODEL_071bf080a9e141c4ac46d19f87fbc7a5",
            "placeholder": "​",
            "style": "IPY_MODEL_f96ac6a749164471bdcd85dea63da8c2",
            "value": " 150/150 [00:00&lt;00:00, 462.73 examples/s]"
          }
        },
        "7b70192ce9894a3a96178c6aeeecaa04": {
          "model_module": "@jupyter-widgets/base",
          "model_name": "LayoutModel",
          "model_module_version": "1.2.0",
          "state": {
            "_model_module": "@jupyter-widgets/base",
            "_model_module_version": "1.2.0",
            "_model_name": "LayoutModel",
            "_view_count": null,
            "_view_module": "@jupyter-widgets/base",
            "_view_module_version": "1.2.0",
            "_view_name": "LayoutView",
            "align_content": null,
            "align_items": null,
            "align_self": null,
            "border": null,
            "bottom": null,
            "display": null,
            "flex": null,
            "flex_flow": null,
            "grid_area": null,
            "grid_auto_columns": null,
            "grid_auto_flow": null,
            "grid_auto_rows": null,
            "grid_column": null,
            "grid_gap": null,
            "grid_row": null,
            "grid_template_areas": null,
            "grid_template_columns": null,
            "grid_template_rows": null,
            "height": null,
            "justify_content": null,
            "justify_items": null,
            "left": null,
            "margin": null,
            "max_height": null,
            "max_width": null,
            "min_height": null,
            "min_width": null,
            "object_fit": null,
            "object_position": null,
            "order": null,
            "overflow": null,
            "overflow_x": null,
            "overflow_y": null,
            "padding": null,
            "right": null,
            "top": null,
            "visibility": null,
            "width": null
          }
        },
        "285e2e0b7dc142c8b651fc38856b8fe4": {
          "model_module": "@jupyter-widgets/base",
          "model_name": "LayoutModel",
          "model_module_version": "1.2.0",
          "state": {
            "_model_module": "@jupyter-widgets/base",
            "_model_module_version": "1.2.0",
            "_model_name": "LayoutModel",
            "_view_count": null,
            "_view_module": "@jupyter-widgets/base",
            "_view_module_version": "1.2.0",
            "_view_name": "LayoutView",
            "align_content": null,
            "align_items": null,
            "align_self": null,
            "border": null,
            "bottom": null,
            "display": null,
            "flex": null,
            "flex_flow": null,
            "grid_area": null,
            "grid_auto_columns": null,
            "grid_auto_flow": null,
            "grid_auto_rows": null,
            "grid_column": null,
            "grid_gap": null,
            "grid_row": null,
            "grid_template_areas": null,
            "grid_template_columns": null,
            "grid_template_rows": null,
            "height": null,
            "justify_content": null,
            "justify_items": null,
            "left": null,
            "margin": null,
            "max_height": null,
            "max_width": null,
            "min_height": null,
            "min_width": null,
            "object_fit": null,
            "object_position": null,
            "order": null,
            "overflow": null,
            "overflow_x": null,
            "overflow_y": null,
            "padding": null,
            "right": null,
            "top": null,
            "visibility": null,
            "width": null
          }
        },
        "b02631bb8b174677b09b329cef458a69": {
          "model_module": "@jupyter-widgets/controls",
          "model_name": "DescriptionStyleModel",
          "model_module_version": "1.5.0",
          "state": {
            "_model_module": "@jupyter-widgets/controls",
            "_model_module_version": "1.5.0",
            "_model_name": "DescriptionStyleModel",
            "_view_count": null,
            "_view_module": "@jupyter-widgets/base",
            "_view_module_version": "1.2.0",
            "_view_name": "StyleView",
            "description_width": ""
          }
        },
        "e01b611c0e434e93b53d2a1e46d2dea5": {
          "model_module": "@jupyter-widgets/base",
          "model_name": "LayoutModel",
          "model_module_version": "1.2.0",
          "state": {
            "_model_module": "@jupyter-widgets/base",
            "_model_module_version": "1.2.0",
            "_model_name": "LayoutModel",
            "_view_count": null,
            "_view_module": "@jupyter-widgets/base",
            "_view_module_version": "1.2.0",
            "_view_name": "LayoutView",
            "align_content": null,
            "align_items": null,
            "align_self": null,
            "border": null,
            "bottom": null,
            "display": null,
            "flex": null,
            "flex_flow": null,
            "grid_area": null,
            "grid_auto_columns": null,
            "grid_auto_flow": null,
            "grid_auto_rows": null,
            "grid_column": null,
            "grid_gap": null,
            "grid_row": null,
            "grid_template_areas": null,
            "grid_template_columns": null,
            "grid_template_rows": null,
            "height": null,
            "justify_content": null,
            "justify_items": null,
            "left": null,
            "margin": null,
            "max_height": null,
            "max_width": null,
            "min_height": null,
            "min_width": null,
            "object_fit": null,
            "object_position": null,
            "order": null,
            "overflow": null,
            "overflow_x": null,
            "overflow_y": null,
            "padding": null,
            "right": null,
            "top": null,
            "visibility": null,
            "width": null
          }
        },
        "629352d0a63947ec98d179b2ac66693c": {
          "model_module": "@jupyter-widgets/controls",
          "model_name": "ProgressStyleModel",
          "model_module_version": "1.5.0",
          "state": {
            "_model_module": "@jupyter-widgets/controls",
            "_model_module_version": "1.5.0",
            "_model_name": "ProgressStyleModel",
            "_view_count": null,
            "_view_module": "@jupyter-widgets/base",
            "_view_module_version": "1.2.0",
            "_view_name": "StyleView",
            "bar_color": null,
            "description_width": ""
          }
        },
        "071bf080a9e141c4ac46d19f87fbc7a5": {
          "model_module": "@jupyter-widgets/base",
          "model_name": "LayoutModel",
          "model_module_version": "1.2.0",
          "state": {
            "_model_module": "@jupyter-widgets/base",
            "_model_module_version": "1.2.0",
            "_model_name": "LayoutModel",
            "_view_count": null,
            "_view_module": "@jupyter-widgets/base",
            "_view_module_version": "1.2.0",
            "_view_name": "LayoutView",
            "align_content": null,
            "align_items": null,
            "align_self": null,
            "border": null,
            "bottom": null,
            "display": null,
            "flex": null,
            "flex_flow": null,
            "grid_area": null,
            "grid_auto_columns": null,
            "grid_auto_flow": null,
            "grid_auto_rows": null,
            "grid_column": null,
            "grid_gap": null,
            "grid_row": null,
            "grid_template_areas": null,
            "grid_template_columns": null,
            "grid_template_rows": null,
            "height": null,
            "justify_content": null,
            "justify_items": null,
            "left": null,
            "margin": null,
            "max_height": null,
            "max_width": null,
            "min_height": null,
            "min_width": null,
            "object_fit": null,
            "object_position": null,
            "order": null,
            "overflow": null,
            "overflow_x": null,
            "overflow_y": null,
            "padding": null,
            "right": null,
            "top": null,
            "visibility": null,
            "width": null
          }
        },
        "f96ac6a749164471bdcd85dea63da8c2": {
          "model_module": "@jupyter-widgets/controls",
          "model_name": "DescriptionStyleModel",
          "model_module_version": "1.5.0",
          "state": {
            "_model_module": "@jupyter-widgets/controls",
            "_model_module_version": "1.5.0",
            "_model_name": "DescriptionStyleModel",
            "_view_count": null,
            "_view_module": "@jupyter-widgets/base",
            "_view_module_version": "1.2.0",
            "_view_name": "StyleView",
            "description_width": ""
          }
        }
      }
    }
  },
  "cells": [
    {
      "cell_type": "markdown",
      "metadata": {
        "id": "view-in-github",
        "colab_type": "text"
      },
      "source": [
        "<a href=\"https://colab.research.google.com/github/hukgithub/fp_ft_ai_model/blob/main/FuturePath_py.ipynb\" target=\"_parent\"><img src=\"https://colab.research.google.com/assets/colab-badge.svg\" alt=\"Open In Colab\"/></a>"
      ]
    },
    {
      "cell_type": "markdown",
      "source": [
        "**Step 1: Install Required Libraries**"
      ],
      "metadata": {
        "id": "hlRG5cd21mh6"
      }
    },
    {
      "cell_type": "code",
      "execution_count": 12,
      "metadata": {
        "id": "1xZWy87v6Umy"
      },
      "outputs": [],
      "source": [
        "!pip install transformers datasets sentence-transformers scikit-learn streamlit fsspec==2024.10.0 --quiet"
      ]
    },
    {
      "cell_type": "markdown",
      "source": [
        "**Step 2: Import Required Libraries**"
      ],
      "metadata": {
        "id": "okWUjxuw1sPZ"
      }
    },
    {
      "cell_type": "code",
      "source": [
        "import pandas as pd\n",
        "import numpy as np\n",
        "import torch\n",
        "from transformers import DistilBertTokenizer, DistilBertForSequenceClassification, Trainer, TrainingArguments\n",
        "from sentence_transformers import SentenceTransformer\n",
        "from datasets import Dataset\n",
        "from sklearn.model_selection import train_test_split"
      ],
      "metadata": {
        "id": "ujtQl4yO1rRK"
      },
      "execution_count": 13,
      "outputs": []
    },
    {
      "cell_type": "markdown",
      "source": [
        "**Step 3: Load and Inspect the Dataset**"
      ],
      "metadata": {
        "id": "jPyGWC-I18eP"
      }
    },
    {
      "cell_type": "code",
      "source": [
        "# Load the dataset\n",
        "file_path = \"/content/Students_Dataset_1.csv\"  # Update the path if needed\n",
        "students_data = pd.read_csv(file_path)\n",
        "\n",
        "# Display the column names\n",
        "print(\"Columns in the dataset:\", students_data.columns)\n",
        "\n",
        "# Display the first few rows to understand the data\n",
        "print(students_data.head())"
      ],
      "metadata": {
        "id": "PbGTdznJ2ApA",
        "colab": {
          "base_uri": "https://localhost:8080/"
        },
        "outputId": "e391aea6-5edf-40fb-87b5-e1c45f4aa2d5"
      },
      "execution_count": 14,
      "outputs": [
        {
          "output_type": "stream",
          "name": "stdout",
          "text": [
            "Columns in the dataset: Index(['Name', 'Age', 'Abilities', 'Interest', 'Family Background', 'Culture',\n",
            "       'Region', 'Country', 'Home Environment', 'Relationship with Family',\n",
            "       'Thinking', 'Dreams', 'Strengths and Weaknesses'],\n",
            "      dtype='object')\n",
            "             Name  Age     Abilities    Interest Family Background  \\\n",
            "0     Priya Ahmed   15  Mathematical  Technology      Joint Family   \n",
            "1    Rachel Smith   14  Mathematical   Traveling    Nuclear Family   \n",
            "2    Hannah Singh   17      Artistic         Art    Nuclear Family   \n",
            "3  Mohammed Singh   18      Artistic       Music    Nuclear Family   \n",
            "4      Aisha Levi   15       Musical      Sports    Nuclear Family   \n",
            "\n",
            "       Culture Region   Country Home Environment Relationship with Family  \\\n",
            "0        Mixed  Rural       USA           Strict                    Close   \n",
            "1  Traditional  Urban  Pakistan          Neutral               Supportive   \n",
            "2       Modern  Rural    Israel      Encouraging               Conflicted   \n",
            "3       Modern  Urban     India           Strict                    Close   \n",
            "4       Modern  Urban  Pakistan           Strict               Conflicted   \n",
            "\n",
            "     Thinking        Dreams                        Strengths and Weaknesses  \n",
            "0   Practical      Musician      Strength: Hardworking, Weakness: Impulsive  \n",
            "1    Creative       Athlete    Strength: Innovative, Weakness: Overthinking  \n",
            "2  Idealistic      Musician          Strength: Quick Learner, Weakness: Shy  \n",
            "3   Practical  Entrepreneur    Strength: Quick Learner, Weakness: Impulsive  \n",
            "4  Idealistic        Artist  Strength: Hardworking, Weakness: Perfectionist  \n"
          ]
        }
      ]
    },
    {
      "cell_type": "markdown",
      "source": [
        "**Dataset Validation:**\n",
        "\n",
        "Add validation to check for missing or malformed data in the features before creating the text column."
      ],
      "metadata": {
        "id": "2-KuFsGL5iKX"
      }
    },
    {
      "cell_type": "code",
      "source": [
        "assert students_data[target_columns].notnull().all().all(), \"Missing values in target columns.\""
      ],
      "metadata": {
        "id": "BpF9UfeX5ive"
      },
      "execution_count": 15,
      "outputs": []
    },
    {
      "cell_type": "markdown",
      "source": [
        "**Test Dataset:**\n",
        "\n",
        "Include a separate test set to evaluate model generalization after training."
      ],
      "metadata": {
        "id": "14mSsabN57Ot"
      }
    },
    {
      "cell_type": "markdown",
      "source": [
        "**Evaluation Metrics:**\n",
        "\n",
        "Enhance the training pipeline by adding metrics like accuracy, F1-score, precision, and recall."
      ],
      "metadata": {
        "id": "O1t1DNvC6Gzl"
      }
    },
    {
      "cell_type": "markdown",
      "source": [
        "**Step 4: Prepare the Dataset**\n",
        "\n",
        "Define a target column. For example, we’ll predict a student’s Interest based on other features."
      ],
      "metadata": {
        "id": "oEVh092f2XMB"
      }
    },
    {
      "cell_type": "code",
      "source": [
        "# Define target columns as a list\n",
        "target_columns = [\n",
        "    \"Abilities\", \"Interest\", \"Family Background\", \"Culture\", \"Region\",\n",
        "    \"Country\", \"Home Environment\", \"Relationship with Family\",\n",
        "    \"Thinking\", \"Dreams\", \"Strengths and Weaknesses\"\n",
        "]\n",
        "\n",
        "# Preprocess dataset: drop rows with missing target values\n",
        "students_data = students_data.dropna(subset=target_columns)\n",
        "\n",
        "# Combine all target columns into a single text feature for modeling\n",
        "students_data[\"text\"] = students_data[target_columns].apply(\n",
        "    lambda x: \" \".join(x.astype(str)), axis=1\n",
        ")\n",
        "\n",
        "# Map labels to numeric values based on one target column (e.g., Interest)\n",
        "students_data[\"field_id\"] = students_data[\"Interest\"].factorize()[0]\n",
        "\n",
        "\n",
        "# This code splits the data into 70% training, 15% validation, and 15% test datasets.\n",
        "# Split the dataset into training, validation, and test sets\n",
        "\n",
        "train_data, temp_data = train_test_split(students_data, test_size=0.3, random_state=42)\n",
        "val_data, test_data = train_test_split(temp_data, test_size=0.5, random_state=42)\n",
        "\n",
        "# Test set will be used only after training for evaluation\n",
        "\n"
      ],
      "metadata": {
        "id": "k12Tocjp2fXh"
      },
      "execution_count": 16,
      "outputs": []
    },
    {
      "cell_type": "markdown",
      "source": [
        "**Step 5: Tokenization**"
      ],
      "metadata": {
        "id": "0PD6TbT_2p7Y"
      }
    },
    {
      "cell_type": "code",
      "source": [
        "# Import Dataset class\n",
        "from datasets import Dataset\n",
        "\n",
        "# Initialize the tokenizer\n",
        "tokenizer = DistilBertTokenizer.from_pretrained(\"distilbert-base-uncased\")\n",
        "\n",
        "# Tokenization function\n",
        "def tokenize_function(examples):\n",
        "    return tokenizer(\n",
        "        examples[\"text\"], padding=\"max_length\", truncation=True, max_length=128\n",
        "    )\n",
        "\n",
        "# Create 'text' column by combining relevant features\n",
        "train_data[\"text\"] = train_data[\n",
        "    [\"Abilities\", \"Interest\", \"Family Background\", \"Culture\", \"Region\", \"Country\", \"Home Environment\",\n",
        "     \"Relationship with Family\", \"Thinking\", \"Dreams\", \"Strengths and Weaknesses\"]\n",
        "].apply(lambda x: \" \".join(x.astype(str)), axis=1)\n",
        "\n",
        "val_data[\"text\"] = val_data[\n",
        "    [\"Abilities\", \"Interest\", \"Family Background\", \"Culture\", \"Region\", \"Country\", \"Home Environment\",\n",
        "     \"Relationship with Family\", \"Thinking\", \"Dreams\", \"Strengths and Weaknesses\"]\n",
        "].apply(lambda x: \" \".join(x.astype(str)), axis=1)\n",
        "\n",
        "# Convert to Hugging Face dataset format\n",
        "train_dataset = Dataset.from_pandas(train_data[[\"text\", \"field_id\"]])\n",
        "val_dataset = Dataset.from_pandas(val_data[[\"text\", \"field_id\"]])\n",
        "\n",
        "# Tokenize datasets\n",
        "tokenized_train_dataset = train_dataset.map(tokenize_function, batched=True)\n",
        "tokenized_val_dataset = val_dataset.map(tokenize_function, batched=True)\n",
        "\n",
        "# Rename 'field_id' to 'labels' for training compatibility\n",
        "tokenized_train_dataset = tokenized_train_dataset.rename_column(\"field_id\", \"labels\")\n",
        "tokenized_val_dataset = tokenized_val_dataset.rename_column(\"field_id\", \"labels\")\n",
        "\n",
        "# Remove unnecessary columns\n",
        "tokenized_train_dataset = tokenized_train_dataset.remove_columns([\"text\"])\n",
        "tokenized_val_dataset = tokenized_val_dataset.remove_columns([\"text\"])\n",
        "\n",
        "# Set format for PyTorch\n",
        "tokenized_train_dataset.set_format(\"torch\")\n",
        "tokenized_val_dataset.set_format(\"torch\")\n"
      ],
      "metadata": {
        "id": "O6c22rEuldQI",
        "colab": {
          "base_uri": "https://localhost:8080/",
          "height": 81,
          "referenced_widgets": [
            "840bff446b1848e4beab0eae81632364",
            "e11f3c0e12b843358515f394f21d118a",
            "def09f5b081943d0bd41ab425c3e93ec",
            "ae96b7a7b81b4cc1b41dd295000b3a09",
            "7581c2ff99d048a0b43b6f3e2e1c3f89",
            "5217bf9b79b44323a69ce47d199ac172",
            "134640615c2446dea2c7a02f2f49da26",
            "2e186eaf6b064085a0c3cb64c64ddaea",
            "43dacfedf74444ec9c0068fa2f8ec804",
            "1a915c5e352c471c9b20b6ec74a3fec5",
            "e93b4b2d344346c389d025d2bb7fd070",
            "ff68c51adb0242d8878609734a363403",
            "9d5cac14668b4879a4879f8d794b0fc6",
            "0028affb21c34ae8ae7b272962e5b8a3",
            "b89a5dc98bde46e1b00aed3fe0423cc5",
            "7b70192ce9894a3a96178c6aeeecaa04",
            "285e2e0b7dc142c8b651fc38856b8fe4",
            "b02631bb8b174677b09b329cef458a69",
            "e01b611c0e434e93b53d2a1e46d2dea5",
            "629352d0a63947ec98d179b2ac66693c",
            "071bf080a9e141c4ac46d19f87fbc7a5",
            "f96ac6a749164471bdcd85dea63da8c2"
          ]
        },
        "outputId": "8f2b8953-668e-4028-a8c9-e6e184567620"
      },
      "execution_count": 17,
      "outputs": [
        {
          "output_type": "display_data",
          "data": {
            "text/plain": [
              "Map:   0%|          | 0/700 [00:00<?, ? examples/s]"
            ],
            "application/vnd.jupyter.widget-view+json": {
              "version_major": 2,
              "version_minor": 0,
              "model_id": "840bff446b1848e4beab0eae81632364"
            }
          },
          "metadata": {}
        },
        {
          "output_type": "display_data",
          "data": {
            "text/plain": [
              "Map:   0%|          | 0/150 [00:00<?, ? examples/s]"
            ],
            "application/vnd.jupyter.widget-view+json": {
              "version_major": 2,
              "version_minor": 0,
              "model_id": "ff68c51adb0242d8878609734a363403"
            }
          },
          "metadata": {}
        }
      ]
    },
    {
      "cell_type": "markdown",
      "source": [
        "**Step 6: Initialize the Model**"
      ],
      "metadata": {
        "id": "7oJnmvv73MYb"
      }
    },
    {
      "cell_type": "code",
      "source": [
        "# Number of unique classes\n",
        "num_classes = len(students_data[\"field_id\"].unique())\n",
        "\n",
        "# Load DistilBERT model\n",
        "model = DistilBertForSequenceClassification.from_pretrained(\n",
        "    \"distilbert-base-uncased\", num_labels=num_classes\n",
        ")"
      ],
      "metadata": {
        "id": "IyERkDLp3T_4",
        "colab": {
          "base_uri": "https://localhost:8080/"
        },
        "outputId": "e1ff8023-cf26-49dc-c674-3f5203847f6c"
      },
      "execution_count": 18,
      "outputs": [
        {
          "output_type": "stream",
          "name": "stderr",
          "text": [
            "Some weights of DistilBertForSequenceClassification were not initialized from the model checkpoint at distilbert-base-uncased and are newly initialized: ['classifier.bias', 'classifier.weight', 'pre_classifier.bias', 'pre_classifier.weight']\n",
            "You should probably TRAIN this model on a down-stream task to be able to use it for predictions and inference.\n"
          ]
        }
      ]
    },
    {
      "cell_type": "markdown",
      "source": [
        "**Step 7: Configure Training**"
      ],
      "metadata": {
        "id": "8DV34cMa3ZIh"
      }
    },
    {
      "cell_type": "code",
      "source": [
        "from sklearn.metrics import accuracy_score, precision_recall_fscore_support\n",
        "\n",
        "# Define evaluation metrics\n",
        "def compute_metrics(eval_pred):\n",
        "    logits, labels = eval_pred\n",
        "    predictions = np.argmax(logits, axis=1)\n",
        "    precision, recall, f1, _ = precision_recall_fscore_support(labels, predictions, average=\"weighted\")\n",
        "    acc = accuracy_score(labels, predictions)\n",
        "    return {\"accuracy\": acc, \"f1\": f1, \"precision\": precision, \"recall\": recall}\n",
        "\n",
        "# Define training arguments\n",
        "training_args = TrainingArguments(\n",
        "    output_dir=\"./results\",\n",
        "    eval_strategy=\"epoch\",\n",
        "    learning_rate=2e-5,\n",
        "    per_device_train_batch_size=16,\n",
        "    per_device_eval_batch_size=16,\n",
        "    num_train_epochs=3,\n",
        "    weight_decay=0.01,\n",
        "    save_strategy=\"epoch\",\n",
        "    logging_dir=\"./logs\",\n",
        "    report_to=\"none\"\n",
        ")\n",
        "\n",
        "# Initialize Trainer\n",
        "trainer = Trainer(\n",
        "    model=model,\n",
        "    args=training_args,\n",
        "    train_dataset=tokenized_train_dataset,\n",
        "    eval_dataset=tokenized_val_dataset,\n",
        "    compute_metrics=compute_metrics\n",
        ")"
      ],
      "metadata": {
        "id": "IfFBTyst3dWh"
      },
      "execution_count": 21,
      "outputs": []
    },
    {
      "cell_type": "code",
      "source": [
        "print(tokenized_train_dataset[0])\n",
        "print(tokenized_val_dataset[0])"
      ],
      "metadata": {
        "id": "HPIXm1E1gsAn",
        "colab": {
          "base_uri": "https://localhost:8080/"
        },
        "outputId": "67186468-f68d-49ba-ebca-edff36ff76a2"
      },
      "execution_count": 24,
      "outputs": [
        {
          "output_type": "stream",
          "name": "stdout",
          "text": [
            "{'labels': tensor(5), '__index_level_0__': tensor(541), 'input_ids': tensor([  101,  4087,  3752,  4517,  2155,  3151,  3923,  2710,  9384,  2485,\n",
            "        17826,  7155,  3997,  1024,  2524, 21398,  1010, 11251,  1024, 11004,\n",
            "          102,     0,     0,     0,     0,     0,     0,     0,     0,     0,\n",
            "            0,     0,     0,     0,     0,     0,     0,     0,     0,     0,\n",
            "            0,     0,     0,     0,     0,     0,     0,     0,     0,     0,\n",
            "            0,     0,     0,     0,     0,     0,     0,     0,     0,     0,\n",
            "            0,     0,     0,     0,     0,     0,     0,     0,     0,     0,\n",
            "            0,     0,     0,     0,     0,     0,     0,     0,     0,     0,\n",
            "            0,     0,     0,     0,     0,     0,     0,     0,     0,     0,\n",
            "            0,     0,     0,     0,     0,     0,     0,     0,     0,     0,\n",
            "            0,     0,     0,     0,     0,     0,     0,     0,     0,     0,\n",
            "            0,     0,     0,     0,     0,     0,     0,     0,     0,     0,\n",
            "            0,     0,     0,     0,     0,     0,     0,     0]), 'attention_mask': tensor([1, 1, 1, 1, 1, 1, 1, 1, 1, 1, 1, 1, 1, 1, 1, 1, 1, 1, 1, 1, 1, 0, 0, 0,\n",
            "        0, 0, 0, 0, 0, 0, 0, 0, 0, 0, 0, 0, 0, 0, 0, 0, 0, 0, 0, 0, 0, 0, 0, 0,\n",
            "        0, 0, 0, 0, 0, 0, 0, 0, 0, 0, 0, 0, 0, 0, 0, 0, 0, 0, 0, 0, 0, 0, 0, 0,\n",
            "        0, 0, 0, 0, 0, 0, 0, 0, 0, 0, 0, 0, 0, 0, 0, 0, 0, 0, 0, 0, 0, 0, 0, 0,\n",
            "        0, 0, 0, 0, 0, 0, 0, 0, 0, 0, 0, 0, 0, 0, 0, 0, 0, 0, 0, 0, 0, 0, 0, 0,\n",
            "        0, 0, 0, 0, 0, 0, 0, 0])}\n",
            "{'labels': tensor(0), '__index_level_0__': tensor(381), 'input_ids': tensor([  101,  8045,  2974,  4101,  2155,  3151,  9282,  2866,  9384,  4736,\n",
            "         2098,  6742,  8258,  3997,  1024,  9525,  1010, 11251,  1024,  2058,\n",
            "        15222,  8950,  2075,   102,     0,     0,     0,     0,     0,     0,\n",
            "            0,     0,     0,     0,     0,     0,     0,     0,     0,     0,\n",
            "            0,     0,     0,     0,     0,     0,     0,     0,     0,     0,\n",
            "            0,     0,     0,     0,     0,     0,     0,     0,     0,     0,\n",
            "            0,     0,     0,     0,     0,     0,     0,     0,     0,     0,\n",
            "            0,     0,     0,     0,     0,     0,     0,     0,     0,     0,\n",
            "            0,     0,     0,     0,     0,     0,     0,     0,     0,     0,\n",
            "            0,     0,     0,     0,     0,     0,     0,     0,     0,     0,\n",
            "            0,     0,     0,     0,     0,     0,     0,     0,     0,     0,\n",
            "            0,     0,     0,     0,     0,     0,     0,     0,     0,     0,\n",
            "            0,     0,     0,     0,     0,     0,     0,     0]), 'attention_mask': tensor([1, 1, 1, 1, 1, 1, 1, 1, 1, 1, 1, 1, 1, 1, 1, 1, 1, 1, 1, 1, 1, 1, 1, 1,\n",
            "        0, 0, 0, 0, 0, 0, 0, 0, 0, 0, 0, 0, 0, 0, 0, 0, 0, 0, 0, 0, 0, 0, 0, 0,\n",
            "        0, 0, 0, 0, 0, 0, 0, 0, 0, 0, 0, 0, 0, 0, 0, 0, 0, 0, 0, 0, 0, 0, 0, 0,\n",
            "        0, 0, 0, 0, 0, 0, 0, 0, 0, 0, 0, 0, 0, 0, 0, 0, 0, 0, 0, 0, 0, 0, 0, 0,\n",
            "        0, 0, 0, 0, 0, 0, 0, 0, 0, 0, 0, 0, 0, 0, 0, 0, 0, 0, 0, 0, 0, 0, 0, 0,\n",
            "        0, 0, 0, 0, 0, 0, 0, 0])}\n"
          ]
        }
      ]
    },
    {
      "cell_type": "markdown",
      "source": [
        "**Step 8: Train the Model**"
      ],
      "metadata": {
        "id": "-1ABGFTD3hrZ"
      }
    },
    {
      "cell_type": "code",
      "source": [
        "# Start training\n",
        "trainer.train()\n",
        "\n",
        "# Save model and tokenizer\n",
        "model.save_pretrained(\"./fine_tuned_distilbert\")\n",
        "tokenizer.save_pretrained(\"./fine_tuned_distilbert\")"
      ],
      "metadata": {
        "id": "hrCd4e_U3oIh",
        "colab": {
          "base_uri": "https://localhost:8080/",
          "height": 239
        },
        "outputId": "ad3dc401-e0c8-4acc-fd54-12f0bfb8de33"
      },
      "execution_count": 25,
      "outputs": [
        {
          "output_type": "display_data",
          "data": {
            "text/plain": [
              "<IPython.core.display.HTML object>"
            ],
            "text/html": [
              "\n",
              "    <div>\n",
              "      \n",
              "      <progress value='132' max='132' style='width:300px; height:20px; vertical-align: middle;'></progress>\n",
              "      [132/132 00:53, Epoch 3/3]\n",
              "    </div>\n",
              "    <table border=\"1\" class=\"dataframe\">\n",
              "  <thead>\n",
              " <tr style=\"text-align: left;\">\n",
              "      <th>Epoch</th>\n",
              "      <th>Training Loss</th>\n",
              "      <th>Validation Loss</th>\n",
              "      <th>Accuracy</th>\n",
              "      <th>F1</th>\n",
              "      <th>Precision</th>\n",
              "      <th>Recall</th>\n",
              "    </tr>\n",
              "  </thead>\n",
              "  <tbody>\n",
              "    <tr>\n",
              "      <td>1</td>\n",
              "      <td>No log</td>\n",
              "      <td>0.902336</td>\n",
              "      <td>1.000000</td>\n",
              "      <td>1.000000</td>\n",
              "      <td>1.000000</td>\n",
              "      <td>1.000000</td>\n",
              "    </tr>\n",
              "    <tr>\n",
              "      <td>2</td>\n",
              "      <td>No log</td>\n",
              "      <td>0.240594</td>\n",
              "      <td>1.000000</td>\n",
              "      <td>1.000000</td>\n",
              "      <td>1.000000</td>\n",
              "      <td>1.000000</td>\n",
              "    </tr>\n",
              "    <tr>\n",
              "      <td>3</td>\n",
              "      <td>No log</td>\n",
              "      <td>0.158627</td>\n",
              "      <td>1.000000</td>\n",
              "      <td>1.000000</td>\n",
              "      <td>1.000000</td>\n",
              "      <td>1.000000</td>\n",
              "    </tr>\n",
              "  </tbody>\n",
              "</table><p>"
            ]
          },
          "metadata": {}
        },
        {
          "output_type": "execute_result",
          "data": {
            "text/plain": [
              "('./fine_tuned_distilbert/tokenizer_config.json',\n",
              " './fine_tuned_distilbert/special_tokens_map.json',\n",
              " './fine_tuned_distilbert/vocab.txt',\n",
              " './fine_tuned_distilbert/added_tokens.json')"
            ]
          },
          "metadata": {},
          "execution_count": 25
        }
      ]
    },
    {
      "cell_type": "markdown",
      "source": [
        "**Step 9: Test the Model**"
      ],
      "metadata": {
        "id": "SXmMaSRL3srJ"
      }
    },
    {
      "cell_type": "code",
      "source": [
        "# Load the trained model for inference\n",
        "trained_model = DistilBertForSequenceClassification.from_pretrained(\"./fine_tuned_distilbert\")\n",
        "trained_tokenizer = DistilBertTokenizer.from_pretrained(\"./fine_tuned_distilbert\")\n",
        "\n",
        "# Function for predictions\n",
        "import torch.nn.functional as F #Test the Model to include softmax for probability outputs.\n",
        "\n",
        "def predict(text):\n",
        "    inputs = trained_tokenizer(text, return_tensors=\"pt\", padding=True, truncation=True, max_length=128)\n",
        "    outputs = trained_model(**inputs)\n",
        "    probabilities = F.softmax(outputs.logits, dim=1)  # Apply softmax to logits\n",
        "    predictions = torch.argmax(outputs.logits, dim=1)\n",
        "    return predictions.item(), probabilities.tolist()  # Return prediction and probabilities\n",
        "# This allows you to get the predicted class and its associated probabilities.\n",
        "\n",
        "# Test with a sample\n",
        "sample_text = \"Creative problem-solving strong family support cultural adaptability.\"\n",
        "print(\"Predicted field:\", predict(sample_text))"
      ],
      "metadata": {
        "colab": {
          "base_uri": "https://localhost:8080/"
        },
        "id": "qnHJ65f68e1G",
        "outputId": "a0e94629-0437-461d-acfb-c2c586aea75c"
      },
      "execution_count": 26,
      "outputs": [
        {
          "output_type": "stream",
          "name": "stdout",
          "text": [
            "Predicted field: (5, [[0.20099805295467377, 0.11286281794309616, 0.1625814437866211, 0.14467796683311462, 0.13826507329940796, 0.2406146377325058]])\n"
          ]
        }
      ]
    },
    {
      "cell_type": "markdown",
      "source": [
        "**1. Verify the Files Are Saved**\n",
        "\n",
        "After running your code, check the /content directory in\n",
        "\n",
        " Colab to ensure the fine_tuned_distilbert folder exists:"
      ],
      "metadata": {
        "id": "5jrmfxANoDBN"
      }
    },
    {
      "cell_type": "code",
      "source": [
        "!ls /content/fine_tuned_distilbert"
      ],
      "metadata": {
        "id": "z0Ot66ejoNqM",
        "colab": {
          "base_uri": "https://localhost:8080/"
        },
        "outputId": "4f5a697a-9852-4ad1-c423-fd4fefb1aa65"
      },
      "execution_count": 27,
      "outputs": [
        {
          "output_type": "stream",
          "name": "stdout",
          "text": [
            "config.json  model.safetensors\tspecial_tokens_map.json  tokenizer_config.json\tvocab.txt\n"
          ]
        }
      ]
    },
    {
      "cell_type": "markdown",
      "source": [
        "**2. Zip the Folder**\n",
        "\n",
        "Compress the folder into a .zip file directly within Colab:\n",
        "\n",
        "This creates a file named fine_tuned_distilbert.zip in the /content directory."
      ],
      "metadata": {
        "id": "In6fd2W9oaUs"
      }
    },
    {
      "cell_type": "code",
      "source": [
        "!zip -r fine_tuned_distilbert.zip /content/fine_tuned_distilbert"
      ],
      "metadata": {
        "id": "CdbdbNebodEw",
        "colab": {
          "base_uri": "https://localhost:8080/"
        },
        "outputId": "d39aea50-36d4-46fb-8063-1fb81d4af85c"
      },
      "execution_count": 28,
      "outputs": [
        {
          "output_type": "stream",
          "name": "stdout",
          "text": [
            "  adding: content/fine_tuned_distilbert/ (stored 0%)\n",
            "  adding: content/fine_tuned_distilbert/tokenizer_config.json (deflated 75%)\n",
            "  adding: content/fine_tuned_distilbert/config.json (deflated 52%)\n",
            "  adding: content/fine_tuned_distilbert/special_tokens_map.json (deflated 42%)\n",
            "  adding: content/fine_tuned_distilbert/model.safetensors (deflated 8%)\n",
            "  adding: content/fine_tuned_distilbert/vocab.txt (deflated 53%)\n"
          ]
        }
      ]
    },
    {
      "cell_type": "markdown",
      "source": [
        "**3. Download the Zipped File**\n",
        "\n",
        "Use the following code to download the zipped file from Colab:\n",
        "\n",
        "A download prompt will appear, allowing you to save the fine_tuned_distilbert.zip file to your local machine."
      ],
      "metadata": {
        "id": "0uOyyJ_ro6d7"
      }
    },
    {
      "cell_type": "code",
      "source": [
        "from google.colab import files\n",
        "files.download(\"fine_tuned_distilbert.zip\")"
      ],
      "metadata": {
        "id": "HALEPfj_pBgk",
        "colab": {
          "base_uri": "https://localhost:8080/",
          "height": 17
        },
        "outputId": "efbb9fc0-0255-4068-c8bc-9e955f3cbab4"
      },
      "execution_count": 29,
      "outputs": [
        {
          "output_type": "display_data",
          "data": {
            "text/plain": [
              "<IPython.core.display.Javascript object>"
            ],
            "application/javascript": [
              "\n",
              "    async function download(id, filename, size) {\n",
              "      if (!google.colab.kernel.accessAllowed) {\n",
              "        return;\n",
              "      }\n",
              "      const div = document.createElement('div');\n",
              "      const label = document.createElement('label');\n",
              "      label.textContent = `Downloading \"${filename}\": `;\n",
              "      div.appendChild(label);\n",
              "      const progress = document.createElement('progress');\n",
              "      progress.max = size;\n",
              "      div.appendChild(progress);\n",
              "      document.body.appendChild(div);\n",
              "\n",
              "      const buffers = [];\n",
              "      let downloaded = 0;\n",
              "\n",
              "      const channel = await google.colab.kernel.comms.open(id);\n",
              "      // Send a message to notify the kernel that we're ready.\n",
              "      channel.send({})\n",
              "\n",
              "      for await (const message of channel.messages) {\n",
              "        // Send a message to notify the kernel that we're ready.\n",
              "        channel.send({})\n",
              "        if (message.buffers) {\n",
              "          for (const buffer of message.buffers) {\n",
              "            buffers.push(buffer);\n",
              "            downloaded += buffer.byteLength;\n",
              "            progress.value = downloaded;\n",
              "          }\n",
              "        }\n",
              "      }\n",
              "      const blob = new Blob(buffers, {type: 'application/binary'});\n",
              "      const a = document.createElement('a');\n",
              "      a.href = window.URL.createObjectURL(blob);\n",
              "      a.download = filename;\n",
              "      div.appendChild(a);\n",
              "      a.click();\n",
              "      div.remove();\n",
              "    }\n",
              "  "
            ]
          },
          "metadata": {}
        },
        {
          "output_type": "display_data",
          "data": {
            "text/plain": [
              "<IPython.core.display.Javascript object>"
            ],
            "application/javascript": [
              "download(\"download_9b296a7c-4f23-4ec1-8fe6-6380c16b785f\", \"fine_tuned_distilbert.zip\", 246900643)"
            ]
          },
          "metadata": {}
        }
      ]
    },
    {
      "cell_type": "markdown",
      "source": [
        "**4. Upload to Your Deployment Environment**\n",
        "\n",
        "Once you have the fine_tuned_distilbert.zip file, you can upload it to:\n",
        "\n",
        "Your local directory if running Streamlit locally.\n",
        "\n",
        "Your GitHub repository if deploying to Streamlit Cloud.\n",
        "\n",
        "Hugging Face Spaces if deploying there."
      ],
      "metadata": {
        "id": "DrniRxNTpZ3t"
      }
    }
  ]
}